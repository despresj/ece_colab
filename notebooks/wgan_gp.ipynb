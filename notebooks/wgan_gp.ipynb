{
  "cells": [
    {
      "cell_type": "markdown",
      "metadata": {
        "id": "OUKJkQIe9V7e"
      },
      "source": [
        "# WGAN-GP overriding `Model.train_step`\n",
        "\n",
        "**Author:** [A_K_Nain](https://twitter.com/A_K_Nain)<br>\n",
        "**Date created:** 2020/05/9<br>\n",
        "**Last modified:** 2020/05/9<br>\n",
        "**Description:** Implementation of Wasserstein GAN with Gradient Penalty."
      ]
    },
    {
      "cell_type": "markdown",
      "metadata": {
        "id": "E_1ZIgfg9V7h"
      },
      "source": [
        "## Wasserstein GAN (WGAN) with Gradient Penalty (GP)\n",
        "\n",
        "The original [Wasserstein GAN](https://arxiv.org/abs/1701.07875) leverages the\n",
        "Wasserstein distance to produce a value function that has better theoretical\n",
        "properties than the value function used in the original GAN paper. WGAN requires\n",
        "that the discriminator (aka the critic) lie within the space of 1-Lipschitz\n",
        "functions. The authors proposed the idea of weight clipping to achieve this\n",
        "constraint. Though weight clipping works, it can be a problematic way to enforce\n",
        "1-Lipschitz constraint and can cause undesirable behavior, e.g. a very deep WGAN\n",
        "discriminator (critic) often fails to converge.\n",
        "\n",
        "The [WGAN-GP](https://arxiv.org/pdf/1704.00028.pdf) method proposes an\n",
        "alternative to weight clipping to ensure smooth training. Instead of clipping\n",
        "the weights, the authors proposed a \"gradient penalty\" by adding a loss term\n",
        "that keeps the L2 norm of the discriminator gradients close to 1.\n"
      ]
    },
    {
      "cell_type": "markdown",
      "metadata": {
        "id": "_7rPHrXx9V7h"
      },
      "source": [
        "## Setup\n"
      ]
    },
    {
      "cell_type": "code",
      "execution_count": 2,
      "metadata": {
        "id": "UY2qXoBv9V7i"
      },
      "outputs": [],
      "source": [
        "import numpy as np\n",
        "import tensorflow as tf\n",
        "from tensorflow import keras\n",
        "from tensorflow.keras import layers\n",
        "\n"
      ]
    },
    {
      "cell_type": "markdown",
      "metadata": {
        "id": "svdA_AcZ9V7i"
      },
      "source": [
        "## Prepare the Fashion-MNIST data\n",
        "\n",
        "To demonstrate how to train WGAN-GP, we will be using the\n",
        "[Fashion-MNIST](https://github.com/zalandoresearch/fashion-mnist) dataset. Each\n",
        "sample in this dataset is a 28x28 grayscale image associated with a label from\n",
        "10 classes (e.g. trouser, pullover, sneaker, etc.)"
      ]
    },
    {
      "cell_type": "code",
      "execution_count": 5,
      "metadata": {
        "colab": {
          "base_uri": "https://localhost:8080/"
        },
        "id": "QRHgDWIO9V7j",
        "outputId": "1c5fa02d-8555-4ff8-b566-4339013aa592"
      },
      "outputs": [
        {
          "name": "stdout",
          "output_type": "stream",
          "text": [
            "Number of examples: 60000\n",
            "Shape of the images in the dataset: (28, 28)\n"
          ]
        },
        {
          "data": {
            "text/plain": [
              "(60000, 28, 28, 1)"
            ]
          },
          "execution_count": 5,
          "metadata": {},
          "output_type": "execute_result"
        }
      ],
      "source": [
        "IMG_SHAPE = (28, 28, 1)\n",
        "BATCH_SIZE = 512\n",
        "\n",
        "# Size of the noise vector\n",
        "noise_dim = 128\n",
        "\n",
        "fashion_mnist = keras.datasets.fashion_mnist\n",
        "(train_images, train_labels), (test_images, test_labels) = fashion_mnist.load_data()\n",
        "print(f\"Number of examples: {len(train_images)}\")\n",
        "print(f\"Shape of the images in the dataset: {train_images.shape[1:]}\")\n",
        "\n",
        "# Reshape each sample to (28, 28, 1) and normalize the pixel values in the [-1, 1] range\n",
        "train_images = train_images.reshape(train_images.shape[0], *IMG_SHAPE).astype(\"float32\")\n",
        "train_images = (train_images - 127.5) / 127.5\n",
        "train_images.shape"
      ]
    },
    {
      "cell_type": "markdown",
      "metadata": {
        "id": "BW9CEDAY9V7j"
      },
      "source": [
        "## Create the discriminator (the critic in the original WGAN)\n",
        "\n",
        "The samples in the dataset have a (28, 28, 1) shape. Because we will be\n",
        "using strided convolutions, this can result in a shape with odd dimensions.\n",
        "For example,\n",
        "`(28, 28) -> Conv_s2 -> (14, 14) -> Conv_s2 -> (7, 7) -> Conv_s2 ->(3, 3)`.\n",
        "\n",
        "While peforming upsampling in the generator part of the network, we won't get \n",
        "the same input shape as the original images if we aren't careful. To avoid this,\n",
        "we will do something much simpler:\n",
        "- In the discriminator: \"zero pad\" the input to change the shape to `(32, 32, 1)`\n",
        "for each sample; and\n",
        "- Ihe generator: crop the final output to match the shape with input shape."
      ]
    },
    {
      "cell_type": "code",
      "execution_count": 3,
      "metadata": {
        "colab": {
          "base_uri": "https://localhost:8080/"
        },
        "id": "pjFzIPTF9V7k",
        "outputId": "98d2ffa2-63b4-4770-e0c1-994b9531516a"
      },
      "outputs": [
        {
          "name": "stdout",
          "output_type": "stream",
          "text": [
            "Model: \"discriminator\"\n",
            "_________________________________________________________________\n",
            " Layer (type)                Output Shape              Param #   \n",
            "=================================================================\n",
            " input_1 (InputLayer)        [(None, 28, 28, 1)]       0         \n",
            "                                                                 \n",
            " zero_padding2d (ZeroPadding  (None, 32, 32, 1)        0         \n",
            " 2D)                                                             \n",
            "                                                                 \n",
            " conv2d (Conv2D)             (None, 16, 16, 64)        1664      \n",
            "                                                                 \n",
            " leaky_re_lu (LeakyReLU)     (None, 16, 16, 64)        0         \n",
            "                                                                 \n",
            " conv2d_1 (Conv2D)           (None, 8, 8, 128)         204928    \n",
            "                                                                 \n",
            " leaky_re_lu_1 (LeakyReLU)   (None, 8, 8, 128)         0         \n",
            "                                                                 \n",
            " dropout (Dropout)           (None, 8, 8, 128)         0         \n",
            "                                                                 \n",
            " conv2d_2 (Conv2D)           (None, 4, 4, 256)         819456    \n",
            "                                                                 \n",
            " leaky_re_lu_2 (LeakyReLU)   (None, 4, 4, 256)         0         \n",
            "                                                                 \n",
            " dropout_1 (Dropout)         (None, 4, 4, 256)         0         \n",
            "                                                                 \n",
            " conv2d_3 (Conv2D)           (None, 2, 2, 512)         3277312   \n",
            "                                                                 \n",
            " leaky_re_lu_3 (LeakyReLU)   (None, 2, 2, 512)         0         \n",
            "                                                                 \n",
            " flatten (Flatten)           (None, 2048)              0         \n",
            "                                                                 \n",
            " dropout_2 (Dropout)         (None, 2048)              0         \n",
            "                                                                 \n",
            " dense (Dense)               (None, 1)                 2049      \n",
            "                                                                 \n",
            "=================================================================\n",
            "Total params: 4,305,409\n",
            "Trainable params: 4,305,409\n",
            "Non-trainable params: 0\n",
            "_________________________________________________________________\n"
          ]
        }
      ],
      "source": [
        "\n",
        "def conv_block(\n",
        "    x,\n",
        "    filters,\n",
        "    activation,\n",
        "    kernel_size=(3, 3),\n",
        "    strides=(1, 1),\n",
        "    padding=\"same\",\n",
        "    use_bias=True,\n",
        "    use_bn=False,\n",
        "    use_dropout=False,\n",
        "    drop_value=0.5,\n",
        "):\n",
        "    x = layers.Conv2D(\n",
        "        filters, kernel_size, strides=strides, padding=padding, use_bias=use_bias\n",
        "    )(x)\n",
        "    if use_bn:\n",
        "        x = layers.BatchNormalization()(x)\n",
        "    x = activation(x)\n",
        "    if use_dropout:\n",
        "        x = layers.Dropout(drop_value)(x)\n",
        "    return x\n",
        "\n",
        "\n",
        "def get_discriminator_model():\n",
        "    img_input = layers.Input(shape=IMG_SHAPE)\n",
        "    # Zero pad the input to make the input images size to (32, 32, 1).\n",
        "    x = layers.ZeroPadding2D((2, 2))(img_input)\n",
        "    x = conv_block(\n",
        "        x,\n",
        "        64,\n",
        "        kernel_size=(5, 5),\n",
        "        strides=(2, 2),\n",
        "        use_bn=False,\n",
        "        use_bias=True,\n",
        "        activation=layers.LeakyReLU(0.2),\n",
        "        use_dropout=False,\n",
        "        drop_value=0.3,\n",
        "    )\n",
        "    x = conv_block(\n",
        "        x,\n",
        "        128,\n",
        "        kernel_size=(5, 5),\n",
        "        strides=(2, 2),\n",
        "        use_bn=False,\n",
        "        activation=layers.LeakyReLU(0.2),\n",
        "        use_bias=True,\n",
        "        use_dropout=True,\n",
        "        drop_value=0.3,\n",
        "    )\n",
        "    x = conv_block(\n",
        "        x,\n",
        "        256,\n",
        "        kernel_size=(5, 5),\n",
        "        strides=(2, 2),\n",
        "        use_bn=False,\n",
        "        activation=layers.LeakyReLU(0.2),\n",
        "        use_bias=True,\n",
        "        use_dropout=True,\n",
        "        drop_value=0.3,\n",
        "    )\n",
        "    x = conv_block(\n",
        "        x,\n",
        "        512,\n",
        "        kernel_size=(5, 5),\n",
        "        strides=(2, 2),\n",
        "        use_bn=False,\n",
        "        activation=layers.LeakyReLU(0.2),\n",
        "        use_bias=True,\n",
        "        use_dropout=False,\n",
        "        drop_value=0.3,\n",
        "    )\n",
        "\n",
        "    x = layers.Flatten()(x)\n",
        "    x = layers.Dropout(0.2)(x)\n",
        "    x = layers.Dense(1)(x)\n",
        "\n",
        "    d_model = keras.models.Model(img_input, x, name=\"discriminator\")\n",
        "    return d_model\n",
        "\n",
        "\n",
        "d_model = get_discriminator_model()\n",
        "d_model.summary()\n"
      ]
    },
    {
      "cell_type": "markdown",
      "metadata": {
        "id": "0_6Fuqer9V7l"
      },
      "source": [
        "## Create the generator\n"
      ]
    },
    {
      "cell_type": "code",
      "execution_count": 4,
      "metadata": {
        "colab": {
          "base_uri": "https://localhost:8080/"
        },
        "id": "iLyu8S1c9V7l",
        "outputId": "7efc6aac-1914-48bb-f3bc-dd1550260f88"
      },
      "outputs": [
        {
          "name": "stdout",
          "output_type": "stream",
          "text": [
            "Model: \"generator\"\n",
            "_________________________________________________________________\n",
            " Layer (type)                Output Shape              Param #   \n",
            "=================================================================\n",
            " input_2 (InputLayer)        [(None, 128)]             0         \n",
            "                                                                 \n",
            " dense_1 (Dense)             (None, 4096)              524288    \n",
            "                                                                 \n",
            " batch_normalization (BatchN  (None, 4096)             16384     \n",
            " ormalization)                                                   \n",
            "                                                                 \n",
            " leaky_re_lu_4 (LeakyReLU)   (None, 4096)              0         \n",
            "                                                                 \n",
            " reshape (Reshape)           (None, 4, 4, 256)         0         \n",
            "                                                                 \n",
            " up_sampling2d (UpSampling2D  (None, 8, 8, 256)        0         \n",
            " )                                                               \n",
            "                                                                 \n",
            " conv2d_4 (Conv2D)           (None, 8, 8, 128)         294912    \n",
            "                                                                 \n",
            " batch_normalization_1 (Batc  (None, 8, 8, 128)        512       \n",
            " hNormalization)                                                 \n",
            "                                                                 \n",
            " leaky_re_lu_5 (LeakyReLU)   (None, 8, 8, 128)         0         \n",
            "                                                                 \n",
            " up_sampling2d_1 (UpSampling  (None, 16, 16, 128)      0         \n",
            " 2D)                                                             \n",
            "                                                                 \n",
            " conv2d_5 (Conv2D)           (None, 16, 16, 64)        73728     \n",
            "                                                                 \n",
            " batch_normalization_2 (Batc  (None, 16, 16, 64)       256       \n",
            " hNormalization)                                                 \n",
            "                                                                 \n",
            " leaky_re_lu_6 (LeakyReLU)   (None, 16, 16, 64)        0         \n",
            "                                                                 \n",
            " up_sampling2d_2 (UpSampling  (None, 32, 32, 64)       0         \n",
            " 2D)                                                             \n",
            "                                                                 \n",
            " conv2d_6 (Conv2D)           (None, 32, 32, 1)         576       \n",
            "                                                                 \n",
            " batch_normalization_3 (Batc  (None, 32, 32, 1)        4         \n",
            " hNormalization)                                                 \n",
            "                                                                 \n",
            " activation (Activation)     (None, 32, 32, 1)         0         \n",
            "                                                                 \n",
            " cropping2d (Cropping2D)     (None, 28, 28, 1)         0         \n",
            "                                                                 \n",
            "=================================================================\n",
            "Total params: 910,660\n",
            "Trainable params: 902,082\n",
            "Non-trainable params: 8,578\n",
            "_________________________________________________________________\n"
          ]
        }
      ],
      "source": [
        "\n",
        "def upsample_block(\n",
        "    x,\n",
        "    filters,\n",
        "    activation,\n",
        "    kernel_size=(3, 3),\n",
        "    strides=(1, 1),\n",
        "    up_size=(2, 2),\n",
        "    padding=\"same\",\n",
        "    use_bn=False,\n",
        "    use_bias=True,\n",
        "    use_dropout=False,\n",
        "    drop_value=0.3,\n",
        "):\n",
        "    x = layers.UpSampling2D(up_size)(x)\n",
        "    x = layers.Conv2D(\n",
        "        filters, kernel_size, strides=strides, padding=padding, use_bias=use_bias\n",
        "    )(x)\n",
        "\n",
        "    if use_bn:\n",
        "        x = layers.BatchNormalization()(x)\n",
        "\n",
        "    if activation:\n",
        "        x = activation(x)\n",
        "    if use_dropout:\n",
        "        x = layers.Dropout(drop_value)(x)\n",
        "    return x\n",
        "\n",
        "\n",
        "def get_generator_model():\n",
        "    noise = layers.Input(shape=(noise_dim,))\n",
        "    x = layers.Dense(4 * 4 * 256, use_bias=False)(noise)\n",
        "    x = layers.BatchNormalization()(x)\n",
        "    x = layers.LeakyReLU(0.2)(x)\n",
        "\n",
        "    x = layers.Reshape((4, 4, 256))(x)\n",
        "    x = upsample_block(\n",
        "        x,\n",
        "        128,\n",
        "        layers.LeakyReLU(0.2),\n",
        "        strides=(1, 1),\n",
        "        use_bias=False,\n",
        "        use_bn=True,\n",
        "        padding=\"same\",\n",
        "        use_dropout=False,\n",
        "    )\n",
        "    x = upsample_block(\n",
        "        x,\n",
        "        64,\n",
        "        layers.LeakyReLU(0.2),\n",
        "        strides=(1, 1),\n",
        "        use_bias=False,\n",
        "        use_bn=True,\n",
        "        padding=\"same\",\n",
        "        use_dropout=False,\n",
        "    )\n",
        "    x = upsample_block(\n",
        "        x, 1, layers.Activation(\"tanh\"), strides=(1, 1), use_bias=False, use_bn=True\n",
        "    )\n",
        "    # At this point, we have an output which has the same shape as the input, (32, 32, 1).\n",
        "    # We will use a Cropping2D layer to make it (28, 28, 1).\n",
        "    x = layers.Cropping2D((2, 2))(x)\n",
        "\n",
        "    g_model = keras.models.Model(noise, x, name=\"generator\")\n",
        "    return g_model\n",
        "\n",
        "\n",
        "g_model = get_generator_model()\n",
        "g_model.summary()\n"
      ]
    },
    {
      "cell_type": "markdown",
      "metadata": {
        "id": "CFfPPOwC9V7m"
      },
      "source": [
        "## Create the WGAN-GP model\n",
        "\n",
        "Now that we have defined our generator and discriminator, it's time to implement\n",
        "the WGAN-GP model. We will also override the `train_step` for training."
      ]
    },
    {
      "cell_type": "code",
      "execution_count": 5,
      "metadata": {
        "id": "XGOR0q7x9V7m"
      },
      "outputs": [],
      "source": [
        "class WGAN(keras.Model):\n",
        "    def __init__(\n",
        "        self,\n",
        "        discriminator,\n",
        "        generator,\n",
        "        latent_dim,\n",
        "        discriminator_extra_steps=3,\n",
        "        gp_weight=10.0,\n",
        "    ):\n",
        "        super(WGAN, self).__init__()\n",
        "        self.discriminator = discriminator\n",
        "        self.generator = generator\n",
        "        self.latent_dim = latent_dim\n",
        "        self.d_steps = discriminator_extra_steps\n",
        "        self.gp_weight = gp_weight\n",
        "\n",
        "    def compile(self, d_optimizer, g_optimizer, d_loss_fn, g_loss_fn):\n",
        "        super(WGAN, self).compile()\n",
        "        self.d_optimizer = d_optimizer\n",
        "        self.g_optimizer = g_optimizer\n",
        "        self.d_loss_fn = d_loss_fn\n",
        "        self.g_loss_fn = g_loss_fn\n",
        "\n",
        "    def gradient_penalty(self, batch_size, real_images, fake_images):\n",
        "        \"\"\" Calculates the gradient penalty.\n",
        "\n",
        "        This loss is calculated on an interpolated image\n",
        "        and added to the discriminator loss.\n",
        "        \"\"\"\n",
        "        # Get the interpolated image\n",
        "        alpha = tf.random.normal([batch_size, 1, 1, 1], 0.0, 1.0)\n",
        "        diff = fake_images - real_images\n",
        "        interpolated = real_images + alpha * diff\n",
        "\n",
        "        with tf.GradientTape() as gp_tape:\n",
        "            gp_tape.watch(interpolated)\n",
        "            # 1. Get the discriminator output for this interpolated image.\n",
        "            pred = self.discriminator(interpolated, training=True)\n",
        "\n",
        "        # 2. Calculate the gradients w.r.t to this interpolated image.\n",
        "        grads = gp_tape.gradient(pred, [interpolated])[0]\n",
        "        # 3. Calculate the norm of the gradients.\n",
        "        norm = tf.sqrt(tf.reduce_sum(tf.square(grads), axis=[1, 2, 3]))\n",
        "        gp = tf.reduce_mean((norm - 1.0) ** 2)\n",
        "        return gp\n",
        "\n",
        "    def train_step(self, real_images):\n",
        "        if isinstance(real_images, tuple):\n",
        "            real_images = real_images[0]\n",
        "\n",
        "        # Get the batch size\n",
        "        batch_size = tf.shape(real_images)[0]\n",
        "\n",
        "        # For each batch, we are going to perform the\n",
        "        # following steps as laid out in the original paper:\n",
        "        # 1. Train the generator and get the generator loss\n",
        "        # 2. Train the discriminator and get the discriminator loss\n",
        "        # 3. Calculate the gradient penalty\n",
        "        # 4. Multiply this gradient penalty with a constant weight factor\n",
        "        # 5. Add the gradient penalty to the discriminator loss\n",
        "        # 6. Return the generator and discriminator losses as a loss dictionary\n",
        "\n",
        "        # Train the discriminator first. The original paper recommends training\n",
        "        # the discriminator for `x` more steps (typically 5) as compared to\n",
        "        # one step of the generator. Here we will train it for 3 extra steps\n",
        "        # as compared to 5 to reduce the training time.\n",
        "        for i in range(self.d_steps):\n",
        "            # Get the latent vector\n",
        "            random_latent_vectors = tf.random.normal(\n",
        "                shape=(batch_size, self.latent_dim)\n",
        "            )\n",
        "            with tf.GradientTape() as tape:\n",
        "                # Generate fake images from the latent vector\n",
        "                fake_images = self.generator(random_latent_vectors, training=True)\n",
        "                # Get the logits for the fake images\n",
        "                fake_logits = self.discriminator(fake_images, training=True)\n",
        "                # Get the logits for the real images\n",
        "                real_logits = self.discriminator(real_images, training=True)\n",
        "\n",
        "                # Calculate the discriminator loss using the fake and real image logits\n",
        "                d_cost = self.d_loss_fn(real_img=real_logits, fake_img=fake_logits)\n",
        "                # Calculate the gradient penalty\n",
        "                gp = self.gradient_penalty(batch_size, real_images, fake_images)\n",
        "                # Add the gradient penalty to the original discriminator loss\n",
        "                d_loss = d_cost + gp * self.gp_weight\n",
        "\n",
        "            # Get the gradients w.r.t the discriminator loss\n",
        "            d_gradient = tape.gradient(d_loss, self.discriminator.trainable_variables)\n",
        "            # Update the weights of the discriminator using the discriminator optimizer\n",
        "            self.d_optimizer.apply_gradients(\n",
        "                zip(d_gradient, self.discriminator.trainable_variables)\n",
        "            )\n",
        "\n",
        "        # Train the generator\n",
        "        # Get the latent vector\n",
        "        random_latent_vectors = tf.random.normal(shape=(batch_size, self.latent_dim))\n",
        "        with tf.GradientTape() as tape:\n",
        "            # Generate fake images using the generator\n",
        "            generated_images = self.generator(random_latent_vectors, training=True)\n",
        "            # Get the discriminator logits for fake images\n",
        "            gen_img_logits = self.discriminator(generated_images, training=True)\n",
        "            # Calculate the generator loss\n",
        "            g_loss = self.g_loss_fn(gen_img_logits)\n",
        "\n",
        "        # Get the gradients w.r.t the generator loss\n",
        "        gen_gradient = tape.gradient(g_loss, self.generator.trainable_variables)\n",
        "        # Update the weights of the generator using the generator optimizer\n",
        "        self.g_optimizer.apply_gradients(\n",
        "            zip(gen_gradient, self.generator.trainable_variables)\n",
        "        )\n",
        "        return {\"d_loss\": d_loss, \"g_loss\": g_loss}"
      ]
    },
    {
      "cell_type": "markdown",
      "metadata": {
        "id": "HI1-EEiF9V7n"
      },
      "source": [
        "## Create a Keras callback that periodically saves generated images"
      ]
    },
    {
      "cell_type": "code",
      "execution_count": 6,
      "metadata": {
        "id": "_b9Jbgcv9V7o"
      },
      "outputs": [],
      "source": [
        "\n",
        "class GANMonitor(keras.callbacks.Callback):\n",
        "    def __init__(self, num_img=6, latent_dim=128):\n",
        "        self.num_img = num_img\n",
        "        self.latent_dim = latent_dim\n",
        "\n",
        "    def on_epoch_end(self, epoch, logs=None):\n",
        "        random_latent_vectors = tf.random.normal(shape=(self.num_img, self.latent_dim))\n",
        "        generated_images = self.model.generator(random_latent_vectors)\n",
        "        generated_images = (generated_images * 127.5) + 127.5\n",
        "\n",
        "        for i in range(self.num_img):\n",
        "            img = generated_images[i].numpy()\n",
        "            img = keras.preprocessing.image.array_to_img(img)\n",
        "            img.save(\"generated_img_{i}_{epoch}.png\".format(i=i, epoch=epoch))\n",
        "\n"
      ]
    },
    {
      "cell_type": "markdown",
      "metadata": {
        "id": "mugZHS7M9V7o"
      },
      "source": [
        "## Train the end-to-end model\n"
      ]
    },
    {
      "cell_type": "code",
      "execution_count": null,
      "metadata": {
        "colab": {
          "base_uri": "https://localhost:8080/"
        },
        "id": "Fa3Xcjlh9V7o",
        "outputId": "06cb60cf-e02c-41fa-9818-711e41623f19"
      },
      "outputs": [
        {
          "name": "stdout",
          "output_type": "stream",
          "text": [
            "Epoch 1/20\n",
            "118/118 [==============================] - 54s 324ms/step - d_loss: -7.7433 - g_loss: -16.3507\n",
            "Epoch 2/20\n",
            "118/118 [==============================] - 38s 322ms/step - d_loss: -7.3815 - g_loss: -5.4764\n",
            "Epoch 3/20\n",
            "118/118 [==============================] - 38s 322ms/step - d_loss: -6.4180 - g_loss: 3.1007\n",
            "Epoch 4/20\n",
            "118/118 [==============================] - 38s 322ms/step - d_loss: -5.7871 - g_loss: 9.0208\n",
            "Epoch 5/20\n",
            "118/118 [==============================] - 38s 322ms/step - d_loss: -5.2615 - g_loss: 9.3679\n",
            "Epoch 6/20\n",
            "118/118 [==============================] - 38s 322ms/step - d_loss: -4.9380 - g_loss: 10.8106\n",
            "Epoch 7/20\n",
            "118/118 [==============================] - 38s 322ms/step - d_loss: -4.5467 - g_loss: 11.5264\n",
            "Epoch 8/20\n",
            "118/118 [==============================] - 38s 322ms/step - d_loss: -4.2357 - g_loss: 12.5723\n",
            "Epoch 9/20\n",
            "118/118 [==============================] - 38s 322ms/step - d_loss: -4.0014 - g_loss: 10.9399\n",
            "Epoch 10/20\n",
            "118/118 [==============================] - 38s 323ms/step - d_loss: -3.8368 - g_loss: 12.1167\n",
            "Epoch 11/20\n",
            "118/118 [==============================] - 38s 322ms/step - d_loss: -3.5959 - g_loss: 10.9128\n",
            "Epoch 12/20\n",
            "118/118 [==============================] - 38s 323ms/step - d_loss: -3.3921 - g_loss: 8.9032\n",
            "Epoch 13/20\n",
            "118/118 [==============================] - 38s 322ms/step - d_loss: -3.2108 - g_loss: 9.6592\n",
            "Epoch 14/20\n",
            "118/118 [==============================] - 38s 322ms/step - d_loss: -3.1223 - g_loss: 9.9989\n",
            "Epoch 15/20\n",
            "118/118 [==============================] - 38s 321ms/step - d_loss: -2.9580 - g_loss: 10.7353\n",
            "Epoch 16/20\n",
            "118/118 [==============================] - 38s 321ms/step - d_loss: -2.8449 - g_loss: 11.9077\n",
            "Epoch 17/20\n",
            "118/118 [==============================] - 38s 321ms/step - d_loss: -2.6234 - g_loss: 10.0208\n",
            "Epoch 18/20\n",
            " 26/118 [=====>........................] - ETA: 29s - d_loss: -2.5239 - g_loss: 11.0752"
          ]
        }
      ],
      "source": [
        "# Instantiate the optimizer for both networks\n",
        "# (learning_rate=0.0002, beta_1=0.5 are recommended)\n",
        "generator_optimizer = keras.optimizers.Adam(\n",
        "    learning_rate=0.0002, beta_1=0.5, beta_2=0.9\n",
        ")\n",
        "discriminator_optimizer = keras.optimizers.Adam(\n",
        "    learning_rate=0.0002, beta_1=0.5, beta_2=0.9\n",
        ")\n",
        "\n",
        "# Define the loss functions for the discriminator,\n",
        "# which should be (fake_loss - real_loss).\n",
        "# We will add the gradient penalty later to this loss function.\n",
        "def discriminator_loss(real_img, fake_img):\n",
        "    real_loss = tf.reduce_mean(real_img)\n",
        "    fake_loss = tf.reduce_mean(fake_img)\n",
        "    return fake_loss - real_loss\n",
        "\n",
        "\n",
        "# Define the loss functions for the generator.\n",
        "def generator_loss(fake_img):\n",
        "    return -tf.reduce_mean(fake_img)\n",
        "\n",
        "\n",
        "# Set the number of epochs for trainining.\n",
        "epochs = 20\n",
        "\n",
        "# Instantiate the customer `GANMonitor` Keras callback.\n",
        "cbk = GANMonitor(num_img=3, latent_dim=noise_dim)\n",
        "\n",
        "# Instantiate the WGAN model.\n",
        "wgan = WGAN(\n",
        "    discriminator=d_model,\n",
        "    generator=g_model,\n",
        "    latent_dim=noise_dim,\n",
        "    discriminator_extra_steps=3,\n",
        ")\n",
        "\n",
        "# Compile the WGAN model.\n",
        "wgan.compile(\n",
        "    d_optimizer=discriminator_optimizer,\n",
        "    g_optimizer=generator_optimizer,\n",
        "    g_loss_fn=generator_loss,\n",
        "    d_loss_fn=discriminator_loss,\n",
        ")\n",
        "\n",
        "# Start training the model.\n",
        "wgan.fit(train_images, batch_size=BATCH_SIZE, epochs=epochs, callbacks=[cbk])"
      ]
    },
    {
      "cell_type": "markdown",
      "metadata": {
        "id": "4zsVdi4y9V7o"
      },
      "source": [
        "Display the last generated images:\n"
      ]
    },
    {
      "cell_type": "code",
      "execution_count": null,
      "metadata": {
        "id": "vnwAfyPJ9V7p"
      },
      "outputs": [],
      "source": [
        "from IPython.display import Image, display\n",
        "\n",
        "display(Image(\"generated_img_0_19.png\"))\n",
        "display(Image(\"generated_img_1_19.png\"))\n",
        "display(Image(\"generated_img_2_19.png\"))\n"
      ]
    },
    {
      "cell_type": "code",
      "execution_count": null,
      "metadata": {
        "id": "JawlDvkB9rf9"
      },
      "outputs": [],
      "source": []
    }
  ],
  "metadata": {
    "accelerator": "GPU",
    "colab": {
      "collapsed_sections": [],
      "machine_shape": "hm",
      "name": "wgan_gp",
      "provenance": [],
      "toc_visible": true
    },
    "kernelspec": {
      "display_name": "Python 3",
      "language": "python",
      "name": "python3"
    },
    "language_info": {
      "codemirror_mode": {
        "name": "ipython",
        "version": 3
      },
      "file_extension": ".py",
      "mimetype": "text/x-python",
      "name": "python",
      "nbconvert_exporter": "python",
      "pygments_lexer": "ipython3",
      "version": "3.9.12"
    }
  },
  "nbformat": 4,
  "nbformat_minor": 0
}
